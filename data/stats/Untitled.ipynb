{
 "cells": [
  {
   "cell_type": "code",
   "execution_count": 16,
   "id": "60827f11",
   "metadata": {},
   "outputs": [],
   "source": [
    "import pandas as pd\n",
    "import random\n",
    "import numpy as np"
   ]
  },
  {
   "cell_type": "code",
   "execution_count": 8,
   "id": "ffcb74fe",
   "metadata": {},
   "outputs": [],
   "source": [
    "df = pd.DataFrame(columns=['Game','Player'])"
   ]
  },
  {
   "cell_type": "code",
   "execution_count": null,
   "id": "4f289bf4",
   "metadata": {},
   "outputs": [],
   "source": []
  },
  {
   "cell_type": "code",
   "execution_count": 9,
   "id": "791e37b5",
   "metadata": {},
   "outputs": [],
   "source": [
    "for i in range(1,730):\n",
    "    d = {}\n",
    "    k = random.randint(0, 1)\n",
    "    if(k==1):\n",
    "        df.loc[len(df.index)] = [i, 'Player 1']\n",
    "    else:\n",
    "        df.loc[len(df.index)] = [i, 'Player 2']"
   ]
  },
  {
   "cell_type": "code",
   "execution_count": 13,
   "id": "a827c17a",
   "metadata": {},
   "outputs": [],
   "source": [
    "import matplotlib.pyplot as plt"
   ]
  },
  {
   "cell_type": "code",
   "execution_count": 11,
   "id": "f17eb746",
   "metadata": {},
   "outputs": [],
   "source": [
    "df.to_csv('./stats.csv',index=False)"
   ]
  },
  {
   "cell_type": "code",
   "execution_count": 12,
   "id": "ac3afb23",
   "metadata": {},
   "outputs": [
    {
     "data": {
      "text/plain": [
       "729"
      ]
     },
     "execution_count": 12,
     "metadata": {},
     "output_type": "execute_result"
    }
   ],
   "source": [
    "len(df.index)"
   ]
  },
  {
   "cell_type": "code",
   "execution_count": 20,
   "id": "b1d83f12",
   "metadata": {},
   "outputs": [],
   "source": [
    "x = df['Player'].value_counts()"
   ]
  },
  {
   "cell_type": "code",
   "execution_count": 21,
   "id": "0ffc6263",
   "metadata": {},
   "outputs": [
    {
     "data": {
      "text/plain": [
       "Player 2    371\n",
       "Player 1    358\n",
       "Name: Player, dtype: int64"
      ]
     },
     "execution_count": 21,
     "metadata": {},
     "output_type": "execute_result"
    }
   ],
   "source": [
    "x"
   ]
  },
  {
   "cell_type": "code",
   "execution_count": 28,
   "id": "4eb211f2",
   "metadata": {},
   "outputs": [
    {
     "data": {
      "image/png": "[encoded data removed]",
      "text/plain": [
       "<Figure size 432x288 with 1 Axes>"
      ]
     },
     "metadata": {},
     "output_type": "display_data"
    }
   ],
   "source": [
    "# y = np.array([35, 25, 25, 15])\n",
    "y = [x['Player 1'], x['Player 2']]\n",
    "mylabels = ['Player 1', 'Player 2']\n",
    "mycolors = [\"blue\", \"red\"]\n",
    "myexplode = [0.2, 0]\n",
    "\n",
    "plt.pie(y, labels = mylabels, explode = myexplode, colors=mycolors, shadow = True)\n",
    "plt.legend(title = \"Game WINS\")\n",
    "plt.show()"
   ]
  },
  {
   "cell_type": "code",
   "execution_count": null,
   "id": "57f4afb2",
   "metadata": {},
   "outputs": [],
   "source": []
  }
 ],
 "metadata": {
  "kernelspec": {
   "display_name": "Python 3 (ipykernel)",
   "language": "python",
   "name": "python3"
  },
  "language_info": {
   "codemirror_mode": {
    "name": "ipython",
    "version": 3
   },
   "file_extension": ".py",
   "mimetype": "text/x-python",
   "name": "python",
   "nbconvert_exporter": "python",
   "pygments_lexer": "ipython3",
   "version": "3.9.12"
  }
 },
 "nbformat": 4,
 "nbformat_minor": 5
}
